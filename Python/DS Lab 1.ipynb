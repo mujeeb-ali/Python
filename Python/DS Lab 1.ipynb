{
 "cells": [
  {
   "cell_type": "code",
   "execution_count": 14,
   "id": "d91d6c9e-5560-4709-9221-5d519d112fe4",
   "metadata": {},
   "outputs": [
    {
     "name": "stdout",
     "output_type": "stream",
     "text": [
      "MUjeeb Ur Rehman\n",
      "234\n"
     ]
    }
   ],
   "source": [
    "print(\"MUjeeb Ur Rehman\")\n",
    "print(234)\n",
    "# x = 6;\n",
    "# y = 9;\n",
    "# z = 1;\n",
    "print(x+y+z)"
   ]
  },
  {
   "cell_type": "code",
   "execution_count": 7,
   "id": "7510a251-e8b4-4d70-a440-97eb4eab0ba8",
   "metadata": {},
   "outputs": [
    {
     "name": "stdout",
     "output_type": "stream",
     "text": [
      "Mujeeb Ur Rehman \n"
     ]
    }
   ],
   "source": [
    "name = \"Mujeeb Ur Rehman \"\n",
    "print(name)"
   ]
  },
  {
   "cell_type": "code",
   "execution_count": 5,
   "id": "59dfc1f4-dc0e-4d71-93e1-32f9412c82d2",
   "metadata": {},
   "outputs": [
    {
     "name": "stdout",
     "output_type": "stream",
     "text": [
      "<class 'str'>\n",
      "<class 'int'>\n",
      "<class 'bool'>\n",
      "<class 'float'>\n",
      "<class 'NoneType'>\n"
     ]
    }
   ],
   "source": [
    "name =\"ali\"\n",
    "age= 34\n",
    "enroll= True\n",
    "ratio = 34.4\n",
    "id= None\n",
    "\n",
    "print(type(name))\n",
    "print(type(age))\n",
    "print(type(enroll))\n",
    "print(type(ratio))\n",
    "print(type(id))"
   ]
  },
  {
   "cell_type": "code",
   "execution_count": 8,
   "id": "4e09d1eb-0581-431a-b868-7405392fdece",
   "metadata": {},
   "outputs": [
    {
     "name": "stdout",
     "output_type": "stream",
     "text": [
      "ok\n"
     ]
    }
   ],
   "source": [
    "'''this\n",
    "is \n",
    "the \n",
    "jupitor'''\n",
    "print(\"ok\")"
   ]
  },
  {
   "cell_type": "code",
   "execution_count": 10,
   "id": "6431b91a-748b-4810-8b6d-62e73c7ea613",
   "metadata": {},
   "outputs": [
    {
     "name": "stdin",
     "output_type": "stream",
     "text": [
      "Enter the input:  uk\n"
     ]
    },
    {
     "name": "stdout",
     "output_type": "stream",
     "text": [
      "uk\n"
     ]
    }
   ],
   "source": [
    "var= input(\"Enter the input: \")\n",
    "print(var)"
   ]
  },
  {
   "cell_type": "code",
   "execution_count": 12,
   "id": "09276a47-e226-4f33-b46a-4ecd0c897aa5",
   "metadata": {},
   "outputs": [
    {
     "name": "stdout",
     "output_type": "stream",
     "text": [
      "2.5\n",
      "1.3333333333333333\n"
     ]
    }
   ],
   "source": [
    "number= 1 +2*3/4\n",
    "print(number)\n",
    "print(4/3)\n",
    "\n"
   ]
  },
  {
   "cell_type": "code",
   "execution_count": 13,
   "id": "29f63f45-7b55-48ca-838f-d8ef9993e397",
   "metadata": {},
   "outputs": [
    {
     "name": "stdout",
     "output_type": "stream",
     "text": [
      "2\n"
     ]
    }
   ],
   "source": [
    "\n",
    "rem= 11%3\n",
    "print(rem)"
   ]
  },
  {
   "cell_type": "code",
   "execution_count": 19,
   "id": "7e3f2614-efc7-4d1c-9a5a-6646a0914d97",
   "metadata": {},
   "outputs": [
    {
     "name": "stdout",
     "output_type": "stream",
     "text": [
      "27\n",
      "hello world\n",
      "hello\n",
      "hello\n",
      "hello\n",
      "hello\n",
      "hello\n",
      "hello\n",
      "hello\n",
      "hello\n",
      "hello\n",
      "hello\n",
      "\n"
     ]
    }
   ],
   "source": [
    "print(3**3)\n",
    "print(\"hello\"+\" \"+ \"world\")\n",
    "print(\"hello\\n\"*10)\n"
   ]
  },
  {
   "cell_type": "code",
   "execution_count": 21,
   "id": "e345ba59-ee63-417b-a85e-7766032d2c08",
   "metadata": {},
   "outputs": [
    {
     "name": "stdout",
     "output_type": "stream",
     "text": [
      "True\n",
      "False\n"
     ]
    }
   ],
   "source": [
    "x=[1,2]\n",
    "y=[1,2]\n",
    "\n",
    "print(x==y) # Prints out True\n",
    "print(x is y) # Prints out False\n"
   ]
  },
  {
   "cell_type": "code",
   "execution_count": 23,
   "id": "01961bf1-ba56-43d7-a6a4-496bde483094",
   "metadata": {},
   "outputs": [
    {
     "name": "stdout",
     "output_type": "stream",
     "text": [
      "False\n",
      "False\n",
      "True\n",
      "False\n",
      "True\n",
      "False\n",
      "True\n"
     ]
    }
   ],
   "source": [
    "b=13\n",
    "a=5\n",
    "print(a is b)\n",
    "print(a==b)\n",
    "print(a is not b)\n",
    "print(a>b)\n",
    "print(a<b)\n",
    "print(a>=b)\n",
    "print(a<=b)"
   ]
  },
  {
   "cell_type": "code",
   "execution_count": 27,
   "id": "5ea4de97-023f-4093-ab82-64f1a7116598",
   "metadata": {},
   "outputs": [
    {
     "name": "stdout",
     "output_type": "stream",
     "text": [
      "10\n",
      "8\n",
      "16\n",
      "8.0\n",
      "0.0\n",
      "0.0\n"
     ]
    }
   ],
   "source": [
    "a= 8 \n",
    "b= 2\n",
    "a+=b\n",
    "print(a)\n",
    "a-=b\n",
    "print(a)\n",
    "\n",
    "a*=b\n",
    "print(a)\n",
    "\n",
    "a/=b\n",
    "print(a)\n",
    "\n",
    "a%=b\n",
    "print(a)\n",
    "\n",
    "a**=b\n",
    "print(a)\n",
    "\n",
    "\n"
   ]
  },
  {
   "cell_type": "code",
   "execution_count": 30,
   "id": "3311a289-26e3-425e-8302-bd99eb010d32",
   "metadata": {},
   "outputs": [
    {
     "name": "stdout",
     "output_type": "stream",
     "text": [
      "False\n",
      "True\n",
      "False\n"
     ]
    }
   ],
   "source": [
    "\n",
    "a=1\n",
    "print( not a)\n",
    "b=0\n",
    "print(not False)\n",
    "print(not (a>b))\n",
    "print()"
   ]
  },
  {
   "cell_type": "code",
   "execution_count": null,
   "id": "39e7979c-1540-4ed9-8399-e7aee6a8f95c",
   "metadata": {},
   "outputs": [],
   "source": []
  }
 ],
 "metadata": {
  "kernelspec": {
   "display_name": "Python 3 (ipykernel)",
   "language": "python",
   "name": "python3"
  },
  "language_info": {
   "codemirror_mode": {
    "name": "ipython",
    "version": 3
   },
   "file_extension": ".py",
   "mimetype": "text/x-python",
   "name": "python",
   "nbconvert_exporter": "python",
   "pygments_lexer": "ipython3",
   "version": "3.13.6"
  }
 },
 "nbformat": 4,
 "nbformat_minor": 5
}
