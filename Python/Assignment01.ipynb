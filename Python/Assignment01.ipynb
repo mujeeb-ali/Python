{
 "cells": [
  {
   "cell_type": "code",
   "execution_count": 28,
   "id": "8719775f-71d5-4ce6-82e6-18f31facf6fc",
   "metadata": {},
   "outputs": [
    {
     "name": "stdout",
     "output_type": "stream",
     "text": [
      "The Original Text is : \n",
      "Data science is an interdisciplinary field.\n",
      "Machine learning is a part of data science.\n",
      "Deep learning is a subset of machine learning.\n",
      "Data analysis helps in decision making.\n",
      "Big data and AI are transforming research in many fields.\n",
      "\n",
      "Top 5 most frequent words:\n",
      "'data': 4\n",
      "'is': 3\n",
      "'learning': 3\n",
      "'science': 2\n",
      "'machine': 2\n"
     ]
    }
   ],
   "source": [
    "import re\n",
    "import collections\n",
    "\n",
    "# Open and read the file\n",
    "with open(\"research.txt\", \"r\") as file:\n",
    "    file_read = file.read()\n",
    "\n",
    "print(\"The Original Text is : \")\n",
    "print(file_read)\n",
    "\n",
    "# Tokenize words (convert to lowercase)\n",
    "all_words = re.findall(r'\\b\\w+\\b', file_read.lower())\n",
    "\n",
    "# Count word frequency\n",
    "word_counts = collections.Counter(all_words)\n",
    "\n",
    "# Print top 5 most frequent words\n",
    "print(\"\\nTop 5 most frequent words:\")\n",
    "for word, frequency in word_counts.most_common(5):\n",
    "    print(f\"'{word}': {frequency}\")\n"
   ]
  },
  {
   "cell_type": "code",
   "execution_count": 29,
   "id": "a969c1b2-f1db-4261-a5c5-216e4c1d141d",
   "metadata": {},
   "outputs": [
    {
     "name": "stdout",
     "output_type": "stream",
     "text": [
      "Counter({'A': 3, 'B': 3, 'C': 2, 'D': 1})\n",
      "{'A': 3, 'B': 3, 'C': 2, 'D': 1}\n"
     ]
    }
   ],
   "source": [
    "grades = [\"A\", \"B\", \"A\", \"C\", \"B\", \"A\", \"D\", \"B\", \"C\"]\n",
    "grade_counter = collections.Counter(grades)\n",
    "print(grade_counter)\n",
    "grade_dict = dict(grade_counter)\n",
    "print(grade_dict)"
   ]
  },
  {
   "cell_type": "code",
   "execution_count": 30,
   "id": "8609c972-82bb-4990-b2f5-d5bf1358f404",
   "metadata": {},
   "outputs": [
    {
     "name": "stdout",
     "output_type": "stream",
     "text": [
      "{'A': 0.3333333333333333, 'B': 0.3333333333333333, 'C': 0.2222222222222222, 'D': 0.1111111111111111}\n"
     ]
    },
    {
     "data": {
      "text/plain": [
       "dict"
      ]
     },
     "execution_count": 30,
     "metadata": {},
     "output_type": "execute_result"
    }
   ],
   "source": [
    "def normalize_dict(d):\n",
    "    total = sum(d.values())\n",
    "    return {k: v / total for k, v in d.items()}\n",
    "\n",
    "normalized_grades = normalize_dict(grade_dict)\n",
    "print(normalized_grades)\n",
    "type(normalized_grades)"
   ]
  },
  {
   "cell_type": "code",
   "execution_count": 31,
   "id": "3a2c7caf-4788-41f2-85b8-4edac78393d2",
   "metadata": {},
   "outputs": [
    {
     "name": "stdout",
     "output_type": "stream",
     "text": [
      "5.0\n",
      "Error: Division by zero\n"
     ]
    }
   ],
   "source": [
    "def safe_divide(a, b):\n",
    "    if b == 0:\n",
    "        return \"Error: Division by zero\"\n",
    "    return a / b\n",
    "\n",
    "print(safe_divide(10, 2))  \n",
    "print(safe_divide(10, 0))  "
   ]
  },
  {
   "cell_type": "code",
   "execution_count": 32,
   "id": "b1bebdec-0018-4136-98ef-5fa4d797c8da",
   "metadata": {},
   "outputs": [
    {
     "name": "stdout",
     "output_type": "stream",
     "text": [
      "[4, 16, 36, 64, 100, 144, 196, 256, 324, 400]\n"
     ]
    }
   ],
   "source": [
    "even_squares = [x**2 for x in range(1, 21) if x % 2 == 0]\n",
    "print(even_squares)\n"
   ]
  },
  {
   "cell_type": "code",
   "execution_count": 33,
   "id": "5fc70c07-fe75-43ba-9b94-6b155ae66c25",
   "metadata": {},
   "outputs": [
    {
     "name": "stdout",
     "output_type": "stream",
     "text": [
      "[9, 81, 64]\n"
     ]
    }
   ],
   "source": [
    "nums = [-5, 3, -2, 9, 0, -1, 8]\n",
    "positive_squares = [x**2 for x in nums if x > 0]\n",
    "print(positive_squares)\n"
   ]
  },
  {
   "cell_type": "code",
   "execution_count": 34,
   "id": "1f16e3e3-7261-49d0-ae71-d970f7da1df3",
   "metadata": {},
   "outputs": [
    {
     "name": "stdout",
     "output_type": "stream",
     "text": [
      "(2, 2)\n",
      "['Name', 'Age']\n"
     ]
    }
   ],
   "source": [
    "class MyDataFrame:\n",
    "    def __init__(self, data):\n",
    "        self.data = data\n",
    "\n",
    "    def shape(self):\n",
    "        if not self.data:\n",
    "            return (0, 0)\n",
    "        rows = len(self.data)\n",
    "        columns = len(self.data[0])\n",
    "        return (rows, columns)\n",
    "\n",
    "    def columns(self):\n",
    "        if not self.data:\n",
    "            return []\n",
    "        return list(self.data[0].keys())\n",
    "    \n",
    "\n",
    "data = [{\"Name\": \"Alice\", \"Age\": 30}, {\"Name\": \"Bob\", \"Age\": 25}]\n",
    "df = MyDataFrame(data)\n",
    "print(df.shape())\n",
    "print(df.columns())\n"
   ]
  },
  {
   "cell_type": "code",
   "execution_count": 35,
   "id": "8019da70-1fd3-4ede-a4f4-4629a6b2a9e0",
   "metadata": {},
   "outputs": [
    {
     "name": "stdout",
     "output_type": "stream",
     "text": [
      "1.0\n"
     ]
    }
   ],
   "source": [
    "def correlation(x, y):\n",
    "    if len(x) != len(y) or len(x) == 0:\n",
    "        return None\n",
    "\n",
    "    n = len(x)\n",
    "    mean_x = sum(x) / n\n",
    "    mean_y = sum(y) / n\n",
    "\n",
    "    numerator = sum((xi - mean_x) * (yi - mean_y) for xi, yi in zip(x, y))\n",
    "    sum_sq_x = sum((xi - mean_x) ** 2 for xi in x)\n",
    "    sum_sq_y = sum((yi - mean_y) ** 2 for yi in y)\n",
    "\n",
    "    denominator = (sum_sq_x * sum_sq_y) ** 0.5\n",
    "    if denominator == 0:\n",
    "        return None\n",
    "\n",
    "    return numerator / denominator\n",
    "\n",
    "x = [2, 4, 6, 8, 10]\n",
    "y = [3, 6, 9, 12, 15]\n",
    "print(correlation(x, y))\n"
   ]
  }
 ],
 "metadata": {
  "kernelspec": {
   "display_name": "Python 3 (ipykernel)",
   "language": "python",
   "name": "python3"
  },
  "language_info": {
   "codemirror_mode": {
    "name": "ipython",
    "version": 3
   },
   "file_extension": ".py",
   "mimetype": "text/x-python",
   "name": "python",
   "nbconvert_exporter": "python",
   "pygments_lexer": "ipython3",
   "version": "3.13.6"
  }
 },
 "nbformat": 4,
 "nbformat_minor": 5
}
