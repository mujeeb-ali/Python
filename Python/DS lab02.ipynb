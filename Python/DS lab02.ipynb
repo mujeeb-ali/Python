{
 "cells": [
  {
   "cell_type": "code",
   "execution_count": 5,
   "id": "b393a807-d207-418b-bcd3-4564ebfe2ce6",
   "metadata": {},
   "outputs": [
    {
     "name": "stdin",
     "output_type": "stream",
     "text": [
      "Hey Mujeeb Enter your Name :  Mujeeb Ur Rehman\n",
      "Oyee Enter your age : 21\n"
     ]
    },
    {
     "name": "stdout",
     "output_type": "stream",
     "text": [
      "Hey Buddy your name is :  Mujeeb Ur Rehman\n",
      "Hey buddy your age is :  21\n",
      "Hey Buddy your name type is  :  <class 'str'>\n",
      "Hey buddy your age type is :  <class 'int'>\n"
     ]
    }
   ],
   "source": [
    "name = input(\"Hey Mujeeb Enter your Name : \")\n",
    "age = int(input(\"Oyee Enter your age :\"))\n",
    "print(\"Hey Buddy your name is : \",name)\n",
    "print(\"Hey buddy your age is : \",age)\n",
    "\n",
    "print(\"Hey Buddy your name type is  : \",type(name))\n",
    "print(\"Hey buddy your age type is : \",type(age))"
   ]
  },
  {
   "cell_type": "code",
   "execution_count": 15,
   "id": "a093ea06-d7c5-4fa4-8a5e-97bd8a3d8d95",
   "metadata": {},
   "outputs": [
    {
     "name": "stdout",
     "output_type": "stream",
     "text": [
      "Your name is Mujeeb Ur Rehman, and you are also 21 years old.\n",
      "Great youre from IET\n",
      "You are legend buddy you have the DS course in your School\n"
     ]
    }
   ],
   "source": [
    "school = \"IET\"\n",
    "clas = \"DS\"\n",
    "if name == \"Mujeeb Ur Rehman\" and age == 21:\n",
    "    print(\"Your name is Mujeeb Ur Rehman, and you are also 21 years old.\")\n",
    "    if school == \"IET\":\n",
    "        print(\"Great youre from IET\")\n",
    "        if clas == \"DS\":\n",
    "            print(\"You are legend buddy you have the DS course in your School\")\n",
    "        \n",
    "\n",
    "# if name == \"Rick\" or name == \"Mujeeb Ur Rehman\":\n",
    "    # print(\"your name is either John or Rick.\")"
   ]
  },
  {
   "cell_type": "code",
   "execution_count": 18,
   "id": "36c9c610-6c85-4200-b321-021fa2423215",
   "metadata": {},
   "outputs": [
    {
     "name": "stdout",
     "output_type": "stream",
     "text": [
      "I hate Data Science I hate Data Science I hate Data Science I hate Data Science I hate Data Science I hate Data Science I hate Data Science I hate Data Science I hate Data Science I hate Data Science "
     ]
    }
   ],
   "source": [
    "# for loop\n",
    "for i in range(10):\n",
    "    print(\"I hate Data Science\",end = \" \")\n",
    "   "
   ]
  },
  {
   "cell_type": "code",
   "execution_count": 24,
   "id": "0bcc1bae-fdfd-41b4-8b97-c32cb731412f",
   "metadata": {},
   "outputs": [
    {
     "name": "stdout",
     "output_type": "stream",
     "text": [
      "1\n",
      "2\n",
      "3\n",
      "4\n",
      "5\n",
      "var value reached 6\n"
     ]
    }
   ],
   "source": [
    "var = 1\n",
    "while(var < 6):\n",
    "    print(var)\n",
    "    var+=1\n",
    "else:\n",
    "    print(\"var value reached %d\" %(var))\n"
   ]
  },
  {
   "cell_type": "code",
   "execution_count": 25,
   "id": "66414915-13d0-4e31-b407-63b0d291f2bb",
   "metadata": {},
   "outputs": [
    {
     "name": "stdout",
     "output_type": "stream",
     "text": [
      "My name is Ali and I am 22 years old.\n"
     ]
    }
   ],
   "source": [
    "name = \"Ali\"\n",
    "age = 22\n",
    "\n",
    "print(f\"My name is {name} and I am {age} years old.\")\n"
   ]
  }
 ],
 "metadata": {
  "kernelspec": {
   "display_name": "Python 3 (ipykernel)",
   "language": "python",
   "name": "python3"
  },
  "language_info": {
   "codemirror_mode": {
    "name": "ipython",
    "version": 3
   },
   "file_extension": ".py",
   "mimetype": "text/x-python",
   "name": "python",
   "nbconvert_exporter": "python",
   "pygments_lexer": "ipython3",
   "version": "3.13.6"
  }
 },
 "nbformat": 4,
 "nbformat_minor": 5
}
